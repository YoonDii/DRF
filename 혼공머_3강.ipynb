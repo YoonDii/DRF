{
  "nbformat": 4,
  "nbformat_minor": 0,
  "metadata": {
    "colab": {
      "provenance": [],
      "authorship_tag": "ABX9TyNQwfH5WKYHDlGLBrJnmwPB",
      "include_colab_link": true
    },
    "kernelspec": {
      "name": "python3",
      "display_name": "Python 3"
    },
    "language_info": {
      "name": "python"
    }
  },
  "cells": [
    {
      "cell_type": "markdown",
      "metadata": {
        "id": "view-in-github",
        "colab_type": "text"
      },
      "source": [
        "<a href=\"https://colab.research.google.com/github/YoonDii/self_study/blob/master/%ED%98%BC%EA%B3%B5%EB%A8%B8_3%EA%B0%95.ipynb\" target=\"_parent\"><img src=\"https://colab.research.google.com/assets/colab-badge.svg\" alt=\"Open In Colab\"/></a>"
      ]
    },
    {
      "cell_type": "code",
      "execution_count": null,
      "metadata": {
        "id": "7a6jygPxwiwi"
      },
      "outputs": [],
      "source": [
        "# 회귀는 클래스 중 하나로 분류하는 것이 아니라 임의의 어떤 숫자를 예측하는 문제이다.\n",
        "\n",
        "# k- 최근접 이웃 분류 알고리즘은 예측하려는 샘플에 가장 가까운 샘플 k개를 선택하고, \n"
        "# 그 다음 이 샘플들의 클래스를 확인하여 다수 클래스를 새로운 샘플의 클래스로 예측한다.\n"
      ]
    },
    {
      "cell_type": "code",
      "execution_count": null,
      "metadata": {
        "id": "np5j0UTtJNI_"
      },
      "outputs": [],
      "source": [
        "import numpy as np\n",
        "\n",
        "perch_length = np.array(\n",
        "    [8.4, 13.7, 15.0, 16.2, 17.4, 18.0, 18.7, 19.0, 19.6, 20.0, \n",
        "     21.0, 21.0, 21.0, 21.3, 22.0, 22.0, 22.0, 22.0, 22.0, 22.5, \n",
        "     22.5, 22.7, 23.0, 23.5, 24.0, 24.0, 24.6, 25.0, 25.6, 26.5, \n",
        "     27.3, 27.5, 27.5, 27.5, 28.0, 28.7, 30.0, 32.8, 34.5, 35.0, \n",
        "     36.5, 36.0, 37.0, 37.0, 39.0, 39.0, 39.0, 40.0, 40.0, 40.0, \n",
        "     40.0, 42.0, 43.0, 43.0, 43.5, 44.0]\n",
        "     )\n",
        "perch_weight = np.array(\n",
        "    [5.9, 32.0, 40.0, 51.5, 70.0, 100.0, 78.0, 80.0, 85.0, 85.0, \n",
        "     110.0, 115.0, 125.0, 130.0, 120.0, 120.0, 130.0, 135.0, 110.0, \n",
        "     130.0, 150.0, 145.0, 150.0, 170.0, 225.0, 145.0, 188.0, 180.0, \n",
        "     197.0, 218.0, 300.0, 260.0, 265.0, 250.0, 250.0, 300.0, 320.0, \n",
        "     514.0, 556.0, 840.0, 685.0, 700.0, 700.0, 690.0, 900.0, 650.0, \n",
        "     820.0, 850.0, 900.0, 1015.0, 820.0, 1100.0, 1000.0, 1100.0, \n",
        "     1000.0, 1000.0]\n",
        "     )\n",
        "\n",
        "\n",
        "import matplotlib.pyplot as plt\n",
        "plt.scatter(perch_length, perch_weight)\n",
        "plt.xlabel('length')\n",
        "plt.ylabel('weight')\n",
        "plt.show()\n",
        "\n",
        "\n",
        "from sklearn.model_selection import train_test_split\n",
        "train_input, test_input, train_target, test_target = train_test_split(\n",
        "    perch_length, perch_weight, random_state=42)\n",
        "\n",
        "print(train_input.shape, test_input.shape)\n",
        "\n",
        "test_array = np.array([1,2,3,4])\n",
        "print(test_array.shape)\n",
        "\n",
        "test_array = test_array.reshape(2, 2)\n",
        "print(test_array.shape)\n",
        "\n",
        "# 아래 코드의 주석을 제거하고 실행하면 에러가 발생\n",
        "# test_array = test_array.reshape(2, 3)\n",
        "\n",
        "train_input = train_input.reshape(-1, 1)\n",
        "test_input = test_input.reshape(-1, 1)\n",
        "\n",
        "print(train_input.shape, test_input.shape)\n",
        "\n",
        "\n",
        "from sklearn.neighbors import KNeighborsRegressor\n",
        "\n",
        "knr = KNeighborsRegressor()\n",
        "# k-최근접 이웃 회귀 모델을 훈련\n",
        "knr.fit(train_input, train_target)\n",
        "\n",
        "knr.score(test_input, test_target)\n",
        "# score()메서드가 출력하는 값은 높을수록 좋은것\n",
        "\n",
        "from sklearn.metrics import mean_absolute_error\n",
        "# 테스트 세트에 대한 예측을 만든다.\n",
        "test_prediction = knr.predict(test_input)\n",
        "# 테스트 세트에 대한 평균 절댓값 오차를 계산한다\n",
        "mae = mean_absolute_error(test_target, test_prediction)\n",
        "print(mae)\n",
        "\n",
        "print(knr.score(train_input, train_target))\n",
        "# 훈련세트에서 점수가 굉장히 좋았는데 테스트세트에서 점수가 굉장히 나쁘다면 모델이 훈련세트에 과대적합되었다고 말한다.\n",
        "#반대로 훈련세트보다 테스트 세트의 점수가 높거나 두 점수가 모두 낮은 경우레는 과소적합되었다고 말한다.\n",
        "\n",
        "# 이웃의 갯수를 3으로 설정\n",
        "knr.n_neighbors = 3\n",
        "# 모델을 다시 훈련\n",
        "knr.fit(train_input, train_target)\n",
        "print(knr.score(train_input, train_target))\n",
        "\n",
        "print(knr.score(test_input, test_target))\n",
        "\n"
      ]
    }
  ]
}
